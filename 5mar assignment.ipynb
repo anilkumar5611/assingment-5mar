{
 "cells": [
  {
   "cell_type": "code",
   "execution_count": null,
   "id": "62f7c159",
   "metadata": {},
   "outputs": [],
   "source": [
    "\"\"\"Q1. Explain Class and Object with respect to Object-Oriented Programming. Give a suitable\n",
    "example.\"\"\""
   ]
  },
  {
   "cell_type": "code",
   "execution_count": null,
   "id": "2fb7a25b",
   "metadata": {},
   "outputs": [],
   "source": [
    "\"\"\"ans-Object − Objects have states and behaviors. Example: A dog has states - color, name, breed\n",
    "as well as behaviors – wagging the tail, barking, eating. An object is an instance of a class. \n",
    "Class − A class can be defined as a template/blueprint that describes the behavior/state that \n",
    "the object of its type support.\"\"\""
   ]
  },
  {
   "cell_type": "code",
   "execution_count": null,
   "id": "60138888",
   "metadata": {},
   "outputs": [],
   "source": [
    "#Q2. Name the four pillars of OOPs."
   ]
  },
  {
   "cell_type": "code",
   "execution_count": null,
   "id": "08653e42",
   "metadata": {},
   "outputs": [],
   "source": [
    "\"\"\"The Four pillars of OOPs, abstraction\n",
    ", 1.encapsulation,\n",
    "2.inheritance, and\n",
    "3.polymorphism, \n",
    "are 4.integral\n",
    "to understanding and using OOP.\"\"\""
   ]
  },
  {
   "cell_type": "code",
   "execution_count": null,
   "id": "c0064e0d",
   "metadata": {},
   "outputs": [],
   "source": [
    "#Q3. Explain why the __init__() function is used. Give a suitable example."
   ]
  },
  {
   "cell_type": "code",
   "execution_count": null,
   "id": "4b381c8a",
   "metadata": {},
   "outputs": [],
   "source": [
    "\"\"\"What is __init__ function in Python. As the above example explains, __init__ is a special python \n",
    "method that runs whenever a new object is created. These types of functions \n",
    "are used to initialize the attributes of that class, \n",
    "E.g., if the class is Person, then the attributes will be name, age, etc.\"\"\""
   ]
  },
  {
   "cell_type": "code",
   "execution_count": 1,
   "id": "93767b35",
   "metadata": {},
   "outputs": [],
   "source": [
    "class pwskills1:\n",
    "    def __init__(self ,phone_number,email_id,student_id):\n",
    "        self.phone_number =phone_number\n",
    "        self.email_id=email_id\n",
    "        self.student_id=student_id\n",
    "    def return_student_details(self):\n",
    "            return self.student_id,self.phone_number,self.email_id"
   ]
  },
  {
   "cell_type": "code",
   "execution_count": 2,
   "id": "b29f80d8",
   "metadata": {},
   "outputs": [],
   "source": [
    "gorav=pwskills1(1554444,\"a@mail.com\",102)"
   ]
  },
  {
   "cell_type": "code",
   "execution_count": 3,
   "id": "66f15177",
   "metadata": {},
   "outputs": [
    {
     "data": {
      "text/plain": [
       "(102, 1554444, 'a@mail.com')"
      ]
     },
     "execution_count": 3,
     "metadata": {},
     "output_type": "execute_result"
    }
   ],
   "source": [
    "gorav.return_student_details()"
   ]
  },
  {
   "cell_type": "code",
   "execution_count": null,
   "id": "a3d45307",
   "metadata": {},
   "outputs": [],
   "source": [
    "#Q4. Why self is used in OOPs?"
   ]
  },
  {
   "cell_type": "code",
   "execution_count": null,
   "id": "b3971de0",
   "metadata": {},
   "outputs": [],
   "source": [
    "\"\"\"The use of self makes it easier to distinguish between instance attributes (and methods) from\n",
    "local variables. In the first example, self. x is an instance attribute whereas x is a local \n",
    "variable. They are not the same and they lie in different namespaces.\"\"\""
   ]
  },
  {
   "cell_type": "code",
   "execution_count": null,
   "id": "309c0d96",
   "metadata": {},
   "outputs": [],
   "source": [
    "#Q5. What is inheritance? Give an example for each type of inheritance."
   ]
  },
  {
   "cell_type": "code",
   "execution_count": null,
   "id": "582fefba",
   "metadata": {},
   "outputs": [],
   "source": [
    "\"\"\"Inheritance is a mechanism in which one class acquires the property of another class.\n",
    "For example, a child inherits the traits of his/her parents. With inheritance,\n",
    "we can reuse the fields and methods of the existing class.\n",
    "Hence, inheritance facilitates Reusability and is an important concept of OOPs\"\"\"\"\"\"\""
   ]
  }
 ],
 "metadata": {
  "kernelspec": {
   "display_name": "Python 3 (ipykernel)",
   "language": "python",
   "name": "python3"
  },
  "language_info": {
   "codemirror_mode": {
    "name": "ipython",
    "version": 3
   },
   "file_extension": ".py",
   "mimetype": "text/x-python",
   "name": "python",
   "nbconvert_exporter": "python",
   "pygments_lexer": "ipython3",
   "version": "3.11.2"
  }
 },
 "nbformat": 4,
 "nbformat_minor": 5
}
